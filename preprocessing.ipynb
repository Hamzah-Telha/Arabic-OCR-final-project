{
 "cells": [
  {
   "cell_type": "code",
   "execution_count": 2,
   "metadata": {},
   "outputs": [],
   "source": [
    "import cv2\n",
    "import os\n",
    "import matplotlib.pyplot as plt\n",
    "from skimage.io import imsave\n",
    "\n",
    "# Path to the folder containing images\n",
    "input_dir = 'dataset'\n",
    "output_dir = 'preprocessed'\n",
    "\n",
    "# Function to apply reverse thresholding\n",
    "def reverse_threshold(img, threshold):\n",
    "    # Convert to grayscale\n",
    "    gray = cv2.cvtColor(img, cv2.COLOR_RGB2GRAY)\n",
    "    # Invert colors\n",
    "    inv = cv2.bitwise_not(gray)\n",
    "    # Apply thresholding\n",
    "    thresh = cv2.threshold(inv, threshold, 255, cv2.THRESH_BINARY)[1]\n",
    "    # Invert colors again\n",
    "    thresh = cv2.bitwise_not(thresh)\n",
    "    return thresh\n",
    "\n",
    "# Function to crop image and resize it\n",
    "def crop_and_resize(image_path):\n",
    "    # Load image\n",
    "    img = cv2.imread(image_path)\n",
    "    # Apply reverse thresholding\n",
    "    threshold = 200\n",
    "    thresh_img = reverse_threshold(img, threshold)\n",
    "    # Find contours\n",
    "    contours, hierarchy = cv2.findContours(thresh_img.copy(), cv2.RETR_EXTERNAL, cv2.CHAIN_APPROX_SIMPLE)\n",
    "    # Get largest contour\n",
    "    c = max(contours, key=cv2.contourArea)\n",
    "    # Get bounding rectangle\n",
    "    x, y, w, h = cv2.boundingRect(c)\n",
    "    # Crop and resize image\n",
    "    crop_img = img[y:y + h, x:x + w]\n",
    "    resize_img = cv2.resize(crop_img, (7, 22))\n",
    "    return resize_img\n",
    "\n",
    "# Loop through all subdirectories of the input directory\n",
    "for root, dirs, files in os.walk(input_dir):\n",
    "    # Create corresponding subdirectories in the output directory\n",
    "    for subdir in dirs:\n",
    "        subdir_path = os.path.join(output_dir, os.path.relpath(os.path.join(root, subdir), input_dir))\n",
    "        if not os.path.exists(subdir_path):\n",
    "            os.makedirs(subdir_path)\n",
    "    # Preprocess all images in the current subdirectory and save them to the output directory\n",
    "    for file in files:\n",
    "        if file.endswith(\".png\"):\n",
    "            image_path = os.path.join(root, file)\n",
    "            preprocessed_image = crop_and_resize(image_path)\n",
    "            output_path = os.path.join(output_dir, os.path.relpath(root, input_dir), file)\n",
    "            # Save preprocessed image\n",
    "            plt.imsave(output_path, preprocessed_image, cmap='gray')\n"
   ]
  }
 ],
 "metadata": {
  "kernelspec": {
   "display_name": "Python 3",
   "language": "python",
   "name": "python3"
  },
  "language_info": {
   "codemirror_mode": {
    "name": "ipython",
    "version": 3
   },
   "file_extension": ".py",
   "mimetype": "text/x-python",
   "name": "python",
   "nbconvert_exporter": "python",
   "pygments_lexer": "ipython3",
   "version": "3.10.6"
  },
  "orig_nbformat": 4,
  "vscode": {
   "interpreter": {
    "hash": "916dbcbb3f70747c44a77c7bcd40155683ae19c65e1c03b4aa3499c5328201f1"
   }
  }
 },
 "nbformat": 4,
 "nbformat_minor": 2
}
