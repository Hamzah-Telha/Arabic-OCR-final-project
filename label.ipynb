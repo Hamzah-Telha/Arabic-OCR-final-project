{
 "cells": [
  {
   "cell_type": "code",
   "execution_count": 2,
   "metadata": {},
   "outputs": [],
   "source": [
    "import os\n",
    "import csv\n",
    "\n",
    "# Set the path to the folder containing the images\n",
    "image_folder = 'preprocessed'\n",
    "\n",
    "# Get a list of all the subfolders in the image folder\n",
    "subfolders = os.listdir(image_folder)\n",
    "\n",
    "# Create a list of tuples containing the image path and its corresponding label\n",
    "data = []\n",
    "for subfolder in subfolders:\n",
    "    folder_path = os.path.join(image_folder, subfolder)\n",
    "    for filename in os.listdir(folder_path):\n",
    "        image_path = os.path.join(folder_path, filename)\n",
    "        label = os.path.basename(os.path.normpath(folder_path)) # Extract label from the last folder name\n",
    "        data.append((image_path, label))\n",
    "\n",
    "# Write the data to a CSV file\n",
    "with open('image_labels.csv', 'w', newline='') as csvfile:\n",
    "    writer = csv.writer(csvfile)\n",
    "    writer.writerow(['image_path', 'label'])\n",
    "    for row in data:\n",
    "        writer.writerow(row)\n"
   ]
  }
 ],
 "metadata": {
  "kernelspec": {
   "display_name": "Python 3",
   "language": "python",
   "name": "python3"
  },
  "language_info": {
   "codemirror_mode": {
    "name": "ipython",
    "version": 3
   },
   "file_extension": ".py",
   "mimetype": "text/x-python",
   "name": "python",
   "nbconvert_exporter": "python",
   "pygments_lexer": "ipython3",
   "version": "3.10.6"
  },
  "orig_nbformat": 4,
  "vscode": {
   "interpreter": {
    "hash": "916dbcbb3f70747c44a77c7bcd40155683ae19c65e1c03b4aa3499c5328201f1"
   }
  }
 },
 "nbformat": 4,
 "nbformat_minor": 2
}
